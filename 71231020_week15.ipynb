{
  "nbformat": 4,
  "nbformat_minor": 0,
  "metadata": {
    "colab": {
      "provenance": []
    },
    "kernelspec": {
      "name": "python3",
      "display_name": "Python 3"
    },
    "language_info": {
      "name": "python"
    }
  },
  "cells": [
    {
      "cell_type": "markdown",
      "source": [
        "soal 1"
      ],
      "metadata": {
        "id": "tZ_lSeVAIone"
      }
    },
    {
      "cell_type": "code",
      "source": [
        "import re\n",
        "from datetime import datetime\n",
        "\n",
        "text = \"\"\"Pada tanggal 1945-08-17 Indonesia merdeka. Indonesia memiliki beberapa pahlawan\n",
        "nasional, seperti Pangeran Diponegoro (TL: 1785-11-11), Pattimura (TL: 1783-06-08) dan Ki\n",
        "Hajar Dewantara (1889-05-02).\"\"\"\n",
        "\n",
        "tanggal = re.findall(r'\\b\\d{4}-\\d{2}-\\d{2}\\b', text)\n",
        "\n",
        "now = datetime.now()\n",
        "\n",
        "hasil = []\n",
        "for date_str in tanggal:\n",
        "    date_obj = datetime.strptime(date_str, '%Y-%m-%d')\n",
        "\n",
        "    delta_days = (now - date_obj).days\n",
        "\n",
        "    new_format_date = date_obj.strftime('%d-%m-%Y')\n",
        "\n",
        "    hasil.append(f\"{new_format_date} selisih {delta_days} hari\")\n",
        "for res in hasil:\n",
        "    print(res)\n"
      ],
      "metadata": {
        "colab": {
          "base_uri": "https://localhost:8080/"
        },
        "id": "uYEHZu4yIq7D",
        "outputId": "8c8963a9-8559-4847-e4a1-32a000861bbe"
      },
      "execution_count": 1,
      "outputs": [
        {
          "output_type": "stream",
          "name": "stdout",
          "text": [
            "17-08-1945 selisih 28782 hari\n",
            "11-11-1785 selisih 87134 hari\n",
            "08-06-1783 selisih 88021 hari\n",
            "02-05-1889 selisih 49342 hari\n"
          ]
        }
      ]
    },
    {
      "cell_type": "markdown",
      "source": [
        "soal 2"
      ],
      "metadata": {
        "id": "1Ai8XE5MI94Z"
      }
    },
    {
      "cell_type": "code",
      "source": [
        "import re\n",
        "import random\n",
        "import string\n",
        "\n",
        "text = \"\"\"Berikut adalah daftar email dan nama pengguna dari mailing list:\n",
        "anton@mail.com dimiliki oleh antonius\n",
        "budi@gmail.co.id dimiliki oleh budi anwari\n",
        "slamet@getnada.com dimiliki oleh slamet slumut\n",
        "matahari@tokopedia.com dimiliki oleh toko matahari\"\"\"\n",
        "\n",
        "emails = re.findall(r'\\b[A-Za-z0-9._%+-]+@[A-Za-z0-9.-]+\\.[A-Z|a-z]{2,}\\b', text)\n",
        "\n",
        "\n",
        "def generate_password(length=8):\n",
        "    characters = string.ascii_letters + string.digits\n",
        "    password = ''.join(random.choice(characters) for i in range(length))\n",
        "    return password\n",
        "\n",
        "hasil = []\n",
        "for email in emails:\n",
        "    username = email.split('@')[0]\n",
        "    password = generate_password()\n",
        "    hasil.append(f\"{email} username: {username}, password: {password}\")\n",
        "for res in hasil:\n",
        "    print(res)\n"
      ],
      "metadata": {
        "colab": {
          "base_uri": "https://localhost:8080/"
        },
        "id": "jLq-X7VuI_vC",
        "outputId": "1d737b6b-3680-4266-cbd8-df94673387d9"
      },
      "execution_count": 2,
      "outputs": [
        {
          "output_type": "stream",
          "name": "stdout",
          "text": [
            "anton@mail.com username: anton, password: 1yXmeGWo\n",
            "budi@gmail.co.id username: budi, password: TPZASCEo\n",
            "slamet@getnada.com username: slamet, password: Ea3haynM\n",
            "matahari@tokopedia.com username: matahari, password: Nzf08Gcp\n"
          ]
        }
      ]
    }
  ]
}